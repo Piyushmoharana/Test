{
 "cells": [
  {
   "cell_type": "code",
   "execution_count": 15,
   "metadata": {},
   "outputs": [
    {
     "name": "stdout",
     "output_type": "stream",
     "text": [
      "        Unnamed: 0 Unnamed: 1 TOTAL NO OF PROJECTS HAVING DEFICIENCY   \n",
      "0              NaN        NaN         NaN                        NaN  \\\n",
      "1              NaN      STATE    PROJECTS   MORE THAN 80% OF AVG. OF   \n",
      "2              NaN        NaN         NaN                        NaN   \n",
      "3              NaN        NaN   MONITORED               LAST 10 YRS.   \n",
      "4             A.P.        NaN           4                  DONKARAYI   \n",
      "5        Telengana        NaN           5       PRIYADARSHINI JURALA   \n",
      "6            Bihar        NaN           1                CHANDAN DAM   \n",
      "7        Jharkhand        NaN           6                    TILAIYA   \n",
      "8              NaN        NaN         NaN                     KADANA   \n",
      "9          Gujarat        NaN          17                      PANAM   \n",
      "10             NaN        NaN         NaN                 MACHCHHU-I   \n",
      "11             NaN        NaN         NaN                     KABINI   \n",
      "12       Karnataka        NaN          16                   MANI DAM   \n",
      "13             NaN        NaN         NaN                 TATTIHALLA   \n",
      "14          Kerala        NaN           6          KALLADA(PARAPPAR)   \n",
      "15  Mahaya Pradesh        NaN          11             SANJAY SAROVAR   \n",
      "16     Maharashtra        NaN          29                  DUDHGANGA   \n",
      "17        Nagaland        NaN           1                 DOYANG HEP   \n",
      "18             NaN        NaN         NaN                   BALIMELA   \n",
      "19          Odisha        NaN          10                HARIHARJHOR   \n",
      "20             NaN        NaN         NaN                MANDIRA DAM   \n",
      "21             NaN        NaN         NaN               PARAMBIKULAM   \n",
      "22      Tamil Nadu        NaN           7                        NaN   \n",
      "23             NaN        NaN         NaN                     ALIYAR   \n",
      "24             NaN        NaN         NaN                     RIHAND   \n",
      "25   Uttar Pradesh        NaN           8                      SIRSI   \n",
      "26             NaN        NaN         NaN                      JIRGO   \n",
      "27     Uttarakhand        NaN           3                NANAK SAGAR   \n",
      "28             NaN        NaN         NaN                 MAYURAKSHI   \n",
      "29     West Bengal        NaN           2                        NaN   \n",
      "30             NaN        NaN         NaN                 KANGSABATI   \n",
      "\n",
      "                Unnamed: 2  \n",
      "0   Current Year's Storage  \n",
      "1                      NaN  \n",
      "2        as %age of NORMAL  \n",
      "3                      NaN  \n",
      "4                       63  \n",
      "5                       30  \n",
      "6                       62  \n",
      "7                       68  \n",
      "8                       80  \n",
      "9                       56  \n",
      "10                      78  \n",
      "11                      69  \n",
      "12                      71  \n",
      "13                       0  \n",
      "14                      77  \n",
      "15                      39  \n",
      "16                      71  \n",
      "17                      77  \n",
      "18                      39  \n",
      "19                      25  \n",
      "20                      79  \n",
      "21                      68  \n",
      "22                     NaN  \n",
      "23                      22  \n",
      "24                      65  \n",
      "25                      30  \n",
      "26                       8  \n",
      "27                      65  \n",
      "28                      77  \n",
      "29                     NaN  \n",
      "30                      56  \n"
     ]
    }
   ],
   "source": [
    "# Import the required Module\n",
    "import tabula\n",
    "# Read a PDF File\n",
    "df = tabula.read_pdf(\"/Users/piyushmoharana/Desktop/test_1/input.pdf\", pages='10')[0]\n",
    "# convert PDF into CSV\n",
    "tabula.convert_into(\"input.pdf\", \"input.csv\", output_format=\"csv\", pages='10')\n",
    "print(df)"
   ]
  }
 ],
 "metadata": {
  "kernelspec": {
   "display_name": "Python 3",
   "language": "python",
   "name": "python3"
  },
  "language_info": {
   "codemirror_mode": {
    "name": "ipython",
    "version": 3
   },
   "file_extension": ".py",
   "mimetype": "text/x-python",
   "name": "python",
   "nbconvert_exporter": "python",
   "pygments_lexer": "ipython3",
   "version": "3.11.3"
  },
  "orig_nbformat": 4,
  "vscode": {
   "interpreter": {
    "hash": "aee8b7b246df8f9039afb4144a1f6fd8d2ca17a180786b69acc140d282b71a49"
   }
  }
 },
 "nbformat": 4,
 "nbformat_minor": 2
}
